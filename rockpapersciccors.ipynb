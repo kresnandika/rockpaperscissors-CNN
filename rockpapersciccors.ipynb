{
 "cells": [
  {
   "cell_type": "markdown",
   "metadata": {
    "id": "1eVeh_nNgX_8"
   },
   "source": [
    "# Rock Paper Scissors CNN (100% Acc)\n",
    "\n",
    "kresnaandika36@gmail.com<br>\n",
    "github.com/kresnandika<br>\n",
    "\n",
    "**This code is all my own with some references, feel free to use it**"
   ]
  },
  {
   "cell_type": "code",
   "execution_count": 1,
   "metadata": {
    "id": "-V-9Wh9aE-HX"
   },
   "outputs": [],
   "source": [
    "import numpy as np\n",
    "import pandas as pd\n",
    "import tensorflow as tf\n",
    "import matplotlib.pyplot as plt\n",
    "import matplotlib.image as mpimg\n",
    "import zipfile, os, shutil\n",
    "import seaborn as sn"
   ]
  },
  {
   "cell_type": "code",
   "execution_count": 2,
   "metadata": {
    "colab": {
     "base_uri": "https://localhost:8080/"
    },
    "id": "279LkRDumYz7",
    "outputId": "834da35a-8952-4e8a-fb12-a8a90ba1e370"
   },
   "outputs": [
    {
     "name": "stdout",
     "output_type": "stream",
     "text": [
      "Requirement already satisfied: ipython-autotime in /usr/local/lib/python3.7/dist-packages (0.3.1)\n",
      "Requirement already satisfied: ipython in /usr/local/lib/python3.7/dist-packages (from ipython-autotime) (5.5.0)\n",
      "Requirement already satisfied: setuptools>=18.5 in /usr/local/lib/python3.7/dist-packages (from ipython->ipython-autotime) (57.2.0)\n",
      "Requirement already satisfied: simplegeneric>0.8 in /usr/local/lib/python3.7/dist-packages (from ipython->ipython-autotime) (0.8.1)\n",
      "Requirement already satisfied: pickleshare in /usr/local/lib/python3.7/dist-packages (from ipython->ipython-autotime) (0.7.5)\n",
      "Requirement already satisfied: pygments in /usr/local/lib/python3.7/dist-packages (from ipython->ipython-autotime) (2.6.1)\n",
      "Requirement already satisfied: traitlets>=4.2 in /usr/local/lib/python3.7/dist-packages (from ipython->ipython-autotime) (5.0.5)\n",
      "Requirement already satisfied: decorator in /usr/local/lib/python3.7/dist-packages (from ipython->ipython-autotime) (4.4.2)\n",
      "Requirement already satisfied: prompt-toolkit<2.0.0,>=1.0.4 in /usr/local/lib/python3.7/dist-packages (from ipython->ipython-autotime) (1.0.18)\n",
      "Requirement already satisfied: pexpect in /usr/local/lib/python3.7/dist-packages (from ipython->ipython-autotime) (4.8.0)\n",
      "Requirement already satisfied: wcwidth in /usr/local/lib/python3.7/dist-packages (from prompt-toolkit<2.0.0,>=1.0.4->ipython->ipython-autotime) (0.2.5)\n",
      "Requirement already satisfied: six>=1.9.0 in /usr/local/lib/python3.7/dist-packages (from prompt-toolkit<2.0.0,>=1.0.4->ipython->ipython-autotime) (1.15.0)\n",
      "Requirement already satisfied: ipython-genutils in /usr/local/lib/python3.7/dist-packages (from traitlets>=4.2->ipython->ipython-autotime) (0.2.0)\n",
      "Requirement already satisfied: ptyprocess>=0.5 in /usr/local/lib/python3.7/dist-packages (from pexpect->ipython->ipython-autotime) (0.7.0)\n",
      "time: 209 µs (started: 2021-07-27 09:13:58 +00:00)\n"
     ]
    }
   ],
   "source": [
    "from google.colab import files\n",
    "from tensorflow.keras.preprocessing import image\n",
    "from tensorflow.keras.models import Sequential\n",
    "from tensorflow.keras.layers import Dense, Dropout, Flatten\n",
    "from tensorflow.keras.layers import Conv2D, MaxPooling2D, AveragePooling2D\n",
    "from sklearn.metrics import classification_report, confusion_matrix\n",
    "from sklearn.model_selection import train_test_split\n",
    "from tensorflow.keras.preprocessing.image import load_img, img_to_array, array_to_img\n",
    "from numba import cuda \n",
    "from tensorflow.keras.optimizers import Adam\n",
    "\n",
    "!pip install ipython-autotime\n",
    "%load_ext autotime"
   ]
  },
  {
   "cell_type": "markdown",
   "metadata": {
    "id": "nLO6LeihfsnB"
   },
   "source": [
    "## Load pre-trained"
   ]
  },
  {
   "cell_type": "code",
   "execution_count": 3,
   "metadata": {
    "colab": {
     "base_uri": "https://localhost:8080/"
    },
    "id": "W6Hc3IDCgi6t",
    "outputId": "a07e3daa-f633-4850-a128-1b5caf233ebc"
   },
   "outputs": [
    {
     "name": "stdout",
     "output_type": "stream",
     "text": [
      "--2021-07-27 09:13:58--  https://dicodingacademy.blob.core.windows.net/picodiploma/ml_pemula_academy/rockpaperscissors.zip\n",
      "Resolving dicodingacademy.blob.core.windows.net (dicodingacademy.blob.core.windows.net)... 52.239.197.36\n",
      "Connecting to dicodingacademy.blob.core.windows.net (dicodingacademy.blob.core.windows.net)|52.239.197.36|:443... connected.\n",
      "HTTP request sent, awaiting response... 200 OK\n",
      "Length: 322873683 (308M) [application/zip]\n",
      "Saving to: ‘rockpaperscissors.zip.9’\n",
      "\n",
      "rockpaperscissors.z 100%[===================>] 307.92M  1.41MB/s    in 83s     \n",
      "\n",
      "2021-07-27 09:15:22 (3.70 MB/s) - ‘rockpaperscissors.zip.9’ saved [322873683/322873683]\n",
      "\n",
      "time: 1min 24s (started: 2021-07-27 09:13:58 +00:00)\n"
     ]
    }
   ],
   "source": [
    "!wget --no-check-certificate \\\n",
    "  https://dicodingacademy.blob.core.windows.net/picodiploma/ml_pemula_academy/rockpaperscissors.zip"
   ]
  },
  {
   "cell_type": "code",
   "execution_count": 4,
   "metadata": {
    "colab": {
     "base_uri": "https://localhost:8080/"
    },
    "id": "8Iuev1lIgnqm",
    "outputId": "5becb87b-352b-4076-b6ec-27daa61513cf"
   },
   "outputs": [
    {
     "name": "stdout",
     "output_type": "stream",
     "text": [
      "time: 5.17 s (started: 2021-07-27 09:15:23 +00:00)\n"
     ]
    }
   ],
   "source": [
    "local_zip = '/content/rockpaperscissors.zip'\n",
    "zip_ref = zipfile.ZipFile(local_zip, 'r')\n",
    "zip_ref.extractall('/tmp')\n",
    "zip_ref.close()\n"
   ]
  },
  {
   "cell_type": "markdown",
   "metadata": {
    "id": "PVmDnsMm4l4W"
   },
   "source": [
    "## Making some folders & Split the data"
   ]
  },
  {
   "cell_type": "code",
   "execution_count": 5,
   "metadata": {
    "colab": {
     "base_uri": "https://localhost:8080/"
    },
    "id": "wd2VMAwu4mW8",
    "outputId": "7e0d6d52-acce-4bd0-dbf6-e4a279442476"
   },
   "outputs": [
    {
     "name": "stdout",
     "output_type": "stream",
     "text": [
      "time: 3.12 ms (started: 2021-07-27 09:15:28 +00:00)\n"
     ]
    }
   ],
   "source": [
    "base_dir = '/tmp/rockpaperscissors'\n",
    "train_dir = os.path.join(base_dir,'train')\n",
    "validation_dir = os.path.join(base_dir, 'val')\n",
    "rock_dir = os.path.join(base_dir,'rock')\n",
    "paper_dir = os.path.join(base_dir, 'paper')\n",
    "scissors_dir = os.path.join(base_dir, 'scissors')"
   ]
  },
  {
   "cell_type": "code",
   "execution_count": 6,
   "metadata": {
    "colab": {
     "base_uri": "https://localhost:8080/"
    },
    "id": "gNKtfUy25N50",
    "outputId": "5788e856-7b6f-49b6-84ff-c2908b7ecb90"
   },
   "outputs": [
    {
     "name": "stdout",
     "output_type": "stream",
     "text": [
      "time: 5.29 ms (started: 2021-07-27 09:15:28 +00:00)\n"
     ]
    }
   ],
   "source": [
    "train_rock = os.path.join(train_dir, 'rock')\n",
    "val_rock = os.path.join(validation_dir, 'rock')\n",
    "\n",
    "train_paper = os.path.join(train_dir, 'paper')\n",
    "val_paper = os.path.join(validation_dir, 'paper')\n",
    "\n",
    "train_scissors = os.path.join(train_dir, 'scissors')\n",
    "val_scissors = os.path.join(validation_dir, 'scissors')"
   ]
  },
  {
   "cell_type": "code",
   "execution_count": 7,
   "metadata": {
    "colab": {
     "base_uri": "https://localhost:8080/"
    },
    "id": "5ylhcxhS5zYM",
    "outputId": "62ed6ef3-6388-4efe-dcee-82e17d93fe45"
   },
   "outputs": [
    {
     "name": "stdout",
     "output_type": "stream",
     "text": [
      "time: 5.05 ms (started: 2021-07-27 09:15:28 +00:00)\n"
     ]
    }
   ],
   "source": [
    "list_directory=[train_dir,validation_dir,train_rock,val_rock,\n",
    "                train_paper,val_paper,train_scissors,val_scissors]\n",
    "\n",
    "try:\n",
    "  for i in list_directory:\n",
    "    os.mkdir(i)\n",
    "except OSError:\n",
    "  pass"
   ]
  },
  {
   "cell_type": "code",
   "execution_count": 8,
   "metadata": {
    "colab": {
     "base_uri": "https://localhost:8080/"
    },
    "id": "_R63UezN6RUV",
    "outputId": "85703df7-2370-4c2c-a59e-d561297da736"
   },
   "outputs": [
    {
     "name": "stdout",
     "output_type": "stream",
     "text": [
      "time: 10.6 ms (started: 2021-07-27 09:15:28 +00:00)\n"
     ]
    }
   ],
   "source": [
    "train_rock_dir, val_rock_dir = train_test_split(os.listdir(rock_dir), test_size = 0.40)\n",
    "train_paper_dir, val_paper_dir = train_test_split(os.listdir(paper_dir), test_size = 0.40)\n",
    "train_scissors_dir, val_scissors_dir = train_test_split(os.listdir(scissors_dir), test_size = 0.40)"
   ]
  },
  {
   "cell_type": "code",
   "execution_count": 9,
   "metadata": {
    "colab": {
     "base_uri": "https://localhost:8080/"
    },
    "id": "91-djSqP7D8d",
    "outputId": "4dd978ac-41a8-44d1-a7cc-f41ab4b9378e"
   },
   "outputs": [
    {
     "name": "stdout",
     "output_type": "stream",
     "text": [
      "time: 4.66 s (started: 2021-07-27 09:15:28 +00:00)\n"
     ]
    }
   ],
   "source": [
    "try :\n",
    "  for file in train_rock_dir:\n",
    "    shutil.copy(os.path.join(rock_dir, file), os.path.join(train_rock, file))\n",
    "  for file in train_paper_dir:\n",
    "    shutil.copy(os.path.join(paper_dir,file), os.path.join(train_paper,file))\n",
    "  for file in train_scissors_dir:\n",
    "    shutil.copy(os.path.join(scissors_dir,file), os.path.join(train_scissors,file))\n",
    "  for file in val_rock_dir:\n",
    "    shutil.copy(os.path.join(rock_dir, file), os.path.join(val_rock,file))\n",
    "  for file in val_paper_dir:\n",
    "    shutil.copy(os.path.join(paper_dir,file), os.path.join(val_paper,file))\n",
    "  for file in val_scissors_dir:\n",
    "    shutil.copy(os.path.join(scissors_dir,file), os.path.join(val_scissors,file))\n",
    "except OSError:\n",
    "  pass"
   ]
  },
  {
   "cell_type": "markdown",
   "metadata": {
    "id": "2_PAh3mCiO6y"
   },
   "source": [
    "## Variabel Definition  & Base model"
   ]
  },
  {
   "cell_type": "code",
   "execution_count": 10,
   "metadata": {
    "colab": {
     "base_uri": "https://localhost:8080/"
    },
    "id": "2VfrBsCNW-F9",
    "outputId": "63a4c952-d48b-4379-eeba-af3c37354d3d"
   },
   "outputs": [
    {
     "name": "stdout",
     "output_type": "stream",
     "text": [
      "time: 2.8 ms (started: 2021-07-27 09:15:32 +00:00)\n"
     ]
    }
   ],
   "source": [
    "batch_size = 32 \n",
    "num_classes = 3 \n",
    "dropout = 0.5 \n",
    "epochs = 30\n",
    "lr = 0.001"
   ]
  },
  {
   "cell_type": "code",
   "execution_count": 11,
   "metadata": {
    "colab": {
     "base_uri": "https://localhost:8080/"
    },
    "id": "bA8WRnB1XFPb",
    "outputId": "3e9979d2-3d10-41ed-e148-ce93e39571e8"
   },
   "outputs": [
    {
     "name": "stdout",
     "output_type": "stream",
     "text": [
      "time: 2.54 s (started: 2021-07-27 09:15:32 +00:00)\n"
     ]
    }
   ],
   "source": [
    "base_model = tf.keras.applications.InceptionV3(weights='imagenet', include_top=False, input_shape=(150, 150, 3)) # Atribuindo o método ao modelo e os pesos da imagenet\n",
    "for layer in base_model.layers: \n",
    "    layer.trainable = False"
   ]
  },
  {
   "cell_type": "markdown",
   "metadata": {
    "id": "Jm2cXs92eNW7"
   },
   "source": [
    "## Define Callback class\n",
    "\n",
    "Model training will be stopped if its accuracy or loss is good enough"
   ]
  },
  {
   "cell_type": "code",
   "execution_count": 12,
   "metadata": {
    "colab": {
     "base_uri": "https://localhost:8080/"
    },
    "id": "BFUouSFKeLZX",
    "outputId": "70f2ce3c-0b7d-460e-bb52-5f02791f60bc"
   },
   "outputs": [
    {
     "name": "stdout",
     "output_type": "stream",
     "text": [
      "time: 4.28 ms (started: 2021-07-27 09:15:35 +00:00)\n"
     ]
    }
   ],
   "source": [
    "class myCallback(tf.keras.callbacks.Callback):\n",
    "  def on_epoch_end(self, epoch, logs={}):\n",
    "    if(logs.get('accuracy')>=1.00):\n",
    "      print(\"--> Callback: Reached 100% accuracy. That's perfect, Cheers! <--\")\n",
    "      self.model.stop_training = True\n",
    "\n",
    "callbacks = myCallback()"
   ]
  },
  {
   "cell_type": "markdown",
   "metadata": {
    "id": "XMp5E9JLjnBM"
   },
   "source": [
    "## Defining the CNN Model"
   ]
  },
  {
   "cell_type": "code",
   "execution_count": 13,
   "metadata": {
    "colab": {
     "base_uri": "https://localhost:8080/"
    },
    "id": "piZI-EHZXHxi",
    "outputId": "588f3ba9-6fe2-4b5b-d7b6-e3b5c5c5eb26"
   },
   "outputs": [
    {
     "name": "stdout",
     "output_type": "stream",
     "text": [
      "time: 38.2 ms (started: 2021-07-27 09:15:35 +00:00)\n"
     ]
    }
   ],
   "source": [
    "model = Sequential()\n",
    "model.add(Conv2D(32, (3,3), input_shape=(150, 150, 3), activation='relu'))\n",
    "model.add(MaxPooling2D(2,2))\n",
    "model.add(Conv2D(32, (3, 3), activation = 'relu'))\n",
    "model.add(MaxPooling2D(2, 2))"
   ]
  },
  {
   "cell_type": "markdown",
   "metadata": {
    "id": "gtGhDpI0kYdB"
   },
   "source": [
    "## Continue Model with own layers"
   ]
  },
  {
   "cell_type": "code",
   "execution_count": 14,
   "metadata": {
    "colab": {
     "base_uri": "https://localhost:8080/"
    },
    "id": "4Nt2x2sYkbbf",
    "outputId": "a60b4643-a739-4de7-acd1-87fedb0c0657"
   },
   "outputs": [
    {
     "name": "stdout",
     "output_type": "stream",
     "text": [
      "time: 267 ms (started: 2021-07-27 09:15:35 +00:00)\n"
     ]
    }
   ],
   "source": [
    "x = Flatten()(base_model.output) \n",
    "x = Dense(1024, activation='relu')(x)\n",
    "x = Dropout(dropout)(x) \n",
    "x = Dense(num_classes, activation='softmax')(x)"
   ]
  },
  {
   "cell_type": "markdown",
   "metadata": {
    "id": "A8dMAGE3fGTq"
   },
   "source": [
    "## Compiling the model with its optimizer, loss function and metric"
   ]
  },
  {
   "cell_type": "code",
   "execution_count": 15,
   "metadata": {
    "colab": {
     "base_uri": "https://localhost:8080/"
    },
    "id": "qwHM3TvEXX4a",
    "outputId": "e2ea03cb-4480-443f-9449-4a85d348e1a3"
   },
   "outputs": [
    {
     "name": "stdout",
     "output_type": "stream",
     "text": [
      "time: 50.2 ms (started: 2021-07-27 09:15:35 +00:00)\n"
     ]
    },
    {
     "name": "stderr",
     "output_type": "stream",
     "text": [
      "/usr/local/lib/python3.7/dist-packages/tensorflow/python/keras/optimizer_v2/optimizer_v2.py:375: UserWarning: The `lr` argument is deprecated, use `learning_rate` instead.\n",
      "  \"The `lr` argument is deprecated, use `learning_rate` instead.\")\n"
     ]
    }
   ],
   "source": [
    "model = tf.keras.models.Model(base_model.input, x)\n",
    "\n",
    "model.compile(optimizer = tf.keras.optimizers.Adam(lr=lr),loss='categorical_crossentropy',metrics=['accuracy'])"
   ]
  },
  {
   "cell_type": "markdown",
   "metadata": {
    "id": "k3-ioIYoe9ax"
   },
   "source": [
    "## Applying Data Augmentation Techniques and  InceptionV3\n",
    "\n",
    "For folders not organized in training and validation, it is possible to split. First use validation_split=0.4 and then in flow use subset=\"training/validation\". Remember : **Never augment picture in validation.**"
   ]
  },
  {
   "cell_type": "code",
   "execution_count": 16,
   "metadata": {
    "colab": {
     "base_uri": "https://localhost:8080/"
    },
    "id": "9zM5Sb6jXYGz",
    "outputId": "fe8a7247-b275-4b1b-a1c2-e59cf1e30bd3"
   },
   "outputs": [
    {
     "name": "stdout",
     "output_type": "stream",
     "text": [
      "Found 1314 images belonging to 3 classes.\n",
      "Found 874 images belonging to 3 classes.\n",
      "time: 231 ms (started: 2021-07-27 09:15:35 +00:00)\n"
     ]
    }
   ],
   "source": [
    "# object initialization with inceptionV3 + split data to 40%\n",
    "train_data_gen = tf.keras.preprocessing.image.ImageDataGenerator(validation_split=0.4, preprocessing_function=tf.keras.applications.inception_v3.preprocess_input)\n",
    "\n",
    "# train\n",
    "train_generator = train_data_gen.flow_from_directory('../tmp/rockpaperscissors',\n",
    "                                                 target_size=(150, 150),\n",
    "                                                 batch_size=batch_size,\n",
    "                                                 class_mode=\"categorical\",\n",
    "                                                 shuffle=False,\n",
    "                                                 classes=['paper', 'rock', 'scissors'],\n",
    "                                                 subset='training')\n",
    "\n",
    "# validation\n",
    "val_generator = train_data_gen.flow_from_directory('../tmp/rockpaperscissors',\n",
    "                                                 target_size=(150, 150),\n",
    "                                                 batch_size=16,\n",
    "                                                 class_mode=\"categorical\",\n",
    "                                                 shuffle=False,\n",
    "                                                 classes=['paper', 'rock', 'scissors'],\n",
    "                                                 subset='validation')"
   ]
  },
  {
   "cell_type": "markdown",
   "metadata": {
    "id": "I8uk0DH7kFjI"
   },
   "source": [
    "## Run model with callback and validation split"
   ]
  },
  {
   "cell_type": "code",
   "execution_count": 17,
   "metadata": {
    "colab": {
     "base_uri": "https://localhost:8080/"
    },
    "id": "Df9KnxLKXVaw",
    "outputId": "aa633532-4802-4d1f-8818-7e8f5baea14f"
   },
   "outputs": [
    {
     "name": "stdout",
     "output_type": "stream",
     "text": [
      "Epoch 1/30\n",
      "41/41 [==============================] - 74s 2s/step - loss: 43.3721 - accuracy: 0.6942 - val_loss: 1.8019 - val_accuracy: 0.8738\n",
      "Epoch 2/30\n",
      "41/41 [==============================] - 69s 2s/step - loss: 1.3764 - accuracy: 0.9150 - val_loss: 0.3741 - val_accuracy: 0.9722\n",
      "Epoch 3/30\n",
      "41/41 [==============================] - 69s 2s/step - loss: 0.2003 - accuracy: 0.9750 - val_loss: 0.1434 - val_accuracy: 0.9826\n",
      "Epoch 4/30\n",
      "41/41 [==============================] - 69s 2s/step - loss: 0.0757 - accuracy: 0.9836 - val_loss: 0.1542 - val_accuracy: 0.9838\n",
      "Epoch 5/30\n",
      "41/41 [==============================] - 69s 2s/step - loss: 0.0640 - accuracy: 0.9914 - val_loss: 0.0974 - val_accuracy: 0.9861\n",
      "Epoch 6/30\n",
      "41/41 [==============================] - 69s 2s/step - loss: 0.0281 - accuracy: 0.9939 - val_loss: 0.1021 - val_accuracy: 0.9861\n",
      "Epoch 7/30\n",
      "41/41 [==============================] - 69s 2s/step - loss: 0.0255 - accuracy: 0.9945 - val_loss: 0.0708 - val_accuracy: 0.9884\n",
      "Epoch 8/30\n",
      "41/41 [==============================] - 69s 2s/step - loss: 0.0244 - accuracy: 0.9938 - val_loss: 0.1044 - val_accuracy: 0.9838\n",
      "Epoch 9/30\n",
      "41/41 [==============================] - 69s 2s/step - loss: 0.0311 - accuracy: 0.9922 - val_loss: 0.0625 - val_accuracy: 0.9873\n",
      "Epoch 10/30\n",
      "41/41 [==============================] - 69s 2s/step - loss: 0.0051 - accuracy: 0.9992 - val_loss: 0.0520 - val_accuracy: 0.9884\n",
      "Epoch 11/30\n",
      "41/41 [==============================] - 69s 2s/step - loss: 0.0034 - accuracy: 0.9984 - val_loss: 0.0592 - val_accuracy: 0.9896\n",
      "Epoch 12/30\n",
      "41/41 [==============================] - 70s 2s/step - loss: 0.0051 - accuracy: 0.9992 - val_loss: 0.0606 - val_accuracy: 0.9896\n",
      "Epoch 13/30\n",
      "41/41 [==============================] - 69s 2s/step - loss: 9.3011e-04 - accuracy: 1.0000 - val_loss: 0.0536 - val_accuracy: 0.9907\n",
      "--> Callback: Reached 100% accuracy. That's perfect, Cheers! <--\n",
      "time: 16min 34s (started: 2021-07-27 09:15:36 +00:00)\n"
     ]
    }
   ],
   "source": [
    "model.compile(optimizer='Adam',loss='categorical_crossentropy',metrics=['accuracy'])\n",
    "step_size_train = train_generator.n//train_generator.batch_size\n",
    "step_size_test = val_generator.n//val_generator.batch_size\n",
    "\n",
    "history = model.fit(\n",
    "        train_generator,\n",
    "        steps_per_epoch=step_size_train,\n",
    "        epochs=epochs,\n",
    "        shuffle=True,\n",
    "        validation_data=val_generator,\n",
    "        callbacks=[callbacks],\n",
    "        validation_steps=step_size_test)"
   ]
  },
  {
   "cell_type": "code",
   "execution_count": 18,
   "metadata": {
    "colab": {
     "base_uri": "https://localhost:8080/"
    },
    "id": "e5j28G2DXYT8",
    "outputId": "0e306bf9-1659-4ede-9d2c-28e42277da03"
   },
   "outputs": [
    {
     "name": "stderr",
     "output_type": "stream",
     "text": [
      "/usr/local/lib/python3.7/dist-packages/tensorflow/python/keras/engine/training.py:1973: UserWarning: `Model.evaluate_generator` is deprecated and will be removed in a future version. Please use `Model.evaluate`, which supports generators.\n",
      "  warnings.warn('`Model.evaluate_generator` is deprecated and '\n"
     ]
    },
    {
     "name": "stdout",
     "output_type": "stream",
     "text": [
      "WARNING:tensorflow:Your input ran out of data; interrupting training. Make sure that your dataset or generator can generate at least `steps_per_epoch * epochs` batches (in this case, 437 batches). You may need to use the repeat() function when building your dataset.\n",
      "Acc: 0.991, Loss: 0.053\n",
      "time: 53.5 s (started: 2021-07-27 09:32:10 +00:00)\n"
     ]
    }
   ],
   "source": [
    "# Result model\n",
    "results = model.evaluate_generator(val_generator, 437)\n",
    "print('Acc: %.3f, Loss: %.3f' % (results[1], results[0]))"
   ]
  },
  {
   "cell_type": "markdown",
   "metadata": {
    "id": "QVBUq_-Wk0vX"
   },
   "source": [
    "## Plot loss, Accuracy, Classification report and Confusion Matrix"
   ]
  },
  {
   "cell_type": "code",
   "execution_count": 19,
   "metadata": {
    "colab": {
     "base_uri": "https://localhost:8080/",
     "height": 349
    },
    "id": "BwsS88o4ty3p",
    "outputId": "a1259fc9-b3bf-4558-bb95-cde43446c0b7"
   },
   "outputs": [
    {
     "data": {
      "image/png": "[encoded data removed]",
      "text/plain": [
       "<Figure size 1080x360 with 2 Axes>"
      ]
     },
     "metadata": {
      "tags": []
     },
     "output_type": "display_data"
    },
    {
     "name": "stdout",
     "output_type": "stream",
     "text": [
      "time: 446 ms (started: 2021-07-27 09:33:04 +00:00)\n"
     ]
    }
   ],
   "source": [
    "plt.style.use('seaborn-whitegrid')\n",
    "\n",
    "def plot_acc(history):\n",
    "  acc = history.history['accuracy']\n",
    "  val_acc = history.history['val_accuracy']\n",
    "  epochs = range(len(acc))\n",
    "  plt.subplot(1, 2, 1)\n",
    "  acc_plot, = plt.plot(epochs, acc, 'r')\n",
    "  val_acc_plot, = plt.plot(epochs, val_acc, 'b')\n",
    "  plt.title('Training and Validation Accuracy')\n",
    "  plt.legend([acc_plot, val_acc_plot], ['Training Accuracy', 'Validation Accuracy'])\n",
    "\n",
    "\n",
    "def plot_loss(history):\n",
    "  loss = history.history['loss']\n",
    "  val_loss = history.history['val_loss']\n",
    "  epochs = range(len(loss))\n",
    "  plt.subplot(1, 2, 2)\n",
    "  loss_plot, = plt.plot(epochs, loss, 'r')\n",
    "  val_loss_plot, = plt.plot(epochs, val_loss, 'b')\n",
    "  plt.title('Training and Validation Loss')\n",
    "  plt.legend([loss_plot, val_loss_plot], ['Training Loss', 'Validation Loss'])\n",
    "\n",
    "def plot_history(history):\n",
    "  plt.figure(figsize=(15,5))\n",
    "  plot_acc(history)\n",
    "  plot_loss(history)\n",
    "\n",
    "\n",
    "plot_history(history)"
   ]
  },
  {
   "cell_type": "code",
   "execution_count": 20,
   "metadata": {
    "colab": {
     "base_uri": "https://localhost:8080/",
     "height": 443
    },
    "id": "CsDQ2my6lJup",
    "outputId": "cc7e7a5d-254b-4f41-99a5-9d66f2ebb730"
   },
   "outputs": [
    {
     "data": {
      "image/png": "[encoded data removed]",
      "text/plain": [
       "<Figure size 720x504 with 2 Axes>"
      ]
     },
     "metadata": {
      "tags": []
     },
     "output_type": "display_data"
    },
    {
     "name": "stdout",
     "output_type": "stream",
     "text": [
      "time: 29.1 s (started: 2021-07-27 09:33:04 +00:00)\n"
     ]
    }
   ],
   "source": [
    "# Confusion Matrix\n",
    "Y_pred = model.predict(val_generator)\n",
    "y_pred = np.argmax(Y_pred, axis=1)\n",
    "matrix = confusion_matrix(val_generator.classes, y_pred)\n",
    "df_cm = pd.DataFrame(matrix, index = ['Paper', 'Rock', 'Scissors'],\n",
    "                  columns = ['Paper', 'Rock', 'Scissors'])\n",
    "plt.figure(figsize = (10,7))\n",
    "sn.heatmap(df_cm, annot=True, linewidths=2.5, cmap='YlGnBu')\n",
    "plt.show()"
   ]
  },
  {
   "cell_type": "code",
   "execution_count": 21,
   "metadata": {
    "colab": {
     "base_uri": "https://localhost:8080/"
    },
    "id": "ppJiZsbukmeo",
    "outputId": "96af36a0-1dcb-4d53-8319-a503cc16a2b3"
   },
   "outputs": [
    {
     "name": "stdout",
     "output_type": "stream",
     "text": [
      "              precision    recall  f1-score   support\n",
      "\n",
      "           0       1.00      0.98      0.99       284\n",
      "           1       0.99      0.99      0.99       290\n",
      "           2       0.99      1.00      0.99       300\n",
      "\n",
      "    accuracy                           0.99       874\n",
      "   macro avg       0.99      0.99      0.99       874\n",
      "weighted avg       0.99      0.99      0.99       874\n",
      "\n",
      "time: 27.8 s (started: 2021-07-27 09:33:33 +00:00)\n"
     ]
    }
   ],
   "source": [
    "# Classification Report\n",
    "Y_pred = model.predict(val_generator)\n",
    "y_pred = np.argmax(Y_pred, axis=1)\n",
    "print(classification_report(val_generator.classes, y_pred))"
   ]
  },
  {
   "cell_type": "markdown",
   "metadata": {
    "id": "iqPB8mQXklDk"
   },
   "source": [
    "## Serving a vision model"
   ]
  },
  {
   "cell_type": "code",
   "execution_count": 22,
   "metadata": {
    "colab": {
     "base_uri": "https://localhost:8080/",
     "height": 375,
     "resources": {
      "http://localhost:8080/nbextensions/google.colab/files.js": {
       "data": "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",
       "headers": [
        [
         "content-type",
         "application/javascript"
        ]
       ],
       "ok": true,
       "status": 200,
       "status_text": ""
      }
     }
    },
    "id": "zcPhzS4UklIt",
    "outputId": "b18f4567-8852-4358-93fb-a9eff57a2792"
   },
   "outputs": [
    {
     "data": {
      "text/html": [
       "\n",
       "     <input type=\"file\" id=\"files-6a23cb8b-510d-4f2a-9241-242371baefc5\" name=\"files[]\" multiple disabled\n",
       "        style=\"border:none\" />\n",
       "     <output id=\"result-6a23cb8b-510d-4f2a-9241-242371baefc5\">\n",
       "      Upload widget is only available when the cell has been executed in the\n",
       "      current browser session. Please rerun this cell to enable.\n",
       "      </output>\n",
       "      <script src=\"/nbextensions/google.colab/files.js\"></script> "
      ],
      "text/plain": [
       "<IPython.core.display.HTML object>"
      ]
     },
     "metadata": {
      "tags": []
     },
     "output_type": "display_data"
    },
    {
     "name": "stdout",
     "output_type": "stream",
     "text": [
      "Saving 2f25VA1nfxiC86xj.png to 2f25VA1nfxiC86xj.png\n",
      "2f25VA1nfxiC86xj.png\n",
      "Result : Yup, That's Rock\n"
     ]
    },
    {
     "data": {
      "image/png": "[encoded data removed]",
      "text/plain": [
       "<Figure size 432x288 with 1 Axes>"
      ]
     },
     "metadata": {
      "tags": []
     },
     "output_type": "display_data"
    },
    {
     "name": "stdout",
     "output_type": "stream",
     "text": [
      "time: 57.3 s (started: 2021-07-27 09:34:01 +00:00)\n"
     ]
    }
   ],
   "source": [
    "uploaded = files.upload()\n",
    "\n",
    "for fn in uploaded.keys():\n",
    "\n",
    "  path = fn \n",
    "  img = image.load_img(path, target_size =(150,150))\n",
    "  imgplot = plt.imshow(img)\n",
    "  x = image.img_to_array(img)\n",
    "  x = np.expand_dims(x, axis=0)\n",
    "\n",
    "  images = np.vstack([x])\n",
    "  predictionResult = model.predict(images, batch_size=10)\n",
    "\n",
    "  print(fn)\n",
    "  if predictionResult[0,0]!=0:\n",
    "    print(\"Result : Yeah, It's Paper\")\n",
    "  elif predictionResult[0,1]!=0:\n",
    "    print(\"Result : Yup, That's Rock\")\n",
    "  else:\n",
    "    print(\"Result : You're right, that's Scissor\")\n"
   ]
  }
 ],
 "metadata": {
  "colab": {
   "collapsed_sections": [],
   "name": "rockpapersciccors.ipynb",
   "provenance": []
  },
  "kernelspec": {
   "display_name": "Python 3",
   "language": "python",
   "name": "python3"
  },
  "language_info": {
   "codemirror_mode": {
    "name": "ipython",
    "version": 3
   },
   "file_extension": ".py",
   "mimetype": "text/x-python",
   "name": "python",
   "nbconvert_exporter": "python",
   "pygments_lexer": "ipython3",
   "version": "3.8.10"
  }
 },
 "nbformat": 4,
 "nbformat_minor": 4
}
